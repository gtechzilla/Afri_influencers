{
 "cells": [
  {
   "cell_type": "code",
   "execution_count": 1,
   "metadata": {},
   "outputs": [
    {
     "name": "stdout",
     "output_type": "stream",
     "text": [
      "Requirement already satisfied: tweepy in /home/gtechzilla/anaconda3/envs/tweet_influence/lib/python3.8/site-packages (3.9.0)\n",
      "Requirement already satisfied: requests-oauthlib>=0.7.0 in /home/gtechzilla/anaconda3/envs/tweet_influence/lib/python3.8/site-packages (from tweepy) (1.3.0)\n",
      "Requirement already satisfied: requests[socks]>=2.11.1 in /home/gtechzilla/anaconda3/envs/tweet_influence/lib/python3.8/site-packages (from tweepy) (2.24.0)\n",
      "Requirement already satisfied: six>=1.10.0 in /home/gtechzilla/anaconda3/envs/tweet_influence/lib/python3.8/site-packages (from tweepy) (1.15.0)\n",
      "Requirement already satisfied: oauthlib>=3.0.0 in /home/gtechzilla/anaconda3/envs/tweet_influence/lib/python3.8/site-packages (from requests-oauthlib>=0.7.0->tweepy) (3.1.0)\n",
      "Requirement already satisfied: urllib3!=1.25.0,!=1.25.1,<1.26,>=1.21.1 in /home/gtechzilla/anaconda3/envs/tweet_influence/lib/python3.8/site-packages (from requests[socks]>=2.11.1->tweepy) (1.25.9)\n",
      "Requirement already satisfied: certifi>=2017.4.17 in /home/gtechzilla/anaconda3/envs/tweet_influence/lib/python3.8/site-packages (from requests[socks]>=2.11.1->tweepy) (2020.6.20)\n",
      "Requirement already satisfied: idna<3,>=2.5 in /home/gtechzilla/anaconda3/envs/tweet_influence/lib/python3.8/site-packages (from requests[socks]>=2.11.1->tweepy) (2.10)\n",
      "Requirement already satisfied: chardet<4,>=3.0.2 in /home/gtechzilla/anaconda3/envs/tweet_influence/lib/python3.8/site-packages (from requests[socks]>=2.11.1->tweepy) (3.0.4)\n",
      "Requirement already satisfied: PySocks!=1.5.7,>=1.5.6; extra == \"socks\" in /home/gtechzilla/anaconda3/envs/tweet_influence/lib/python3.8/site-packages (from requests[socks]>=2.11.1->tweepy) (1.7.1)\n"
     ]
    }
   ],
   "source": [
    "#!pip install tweepy\n",
    "# Import all needed libraries\n",
    "import tweepy                   # Python wrapper around Twitter API\n",
    "import json\n",
    "import csv\n",
    "from datetime import date\n",
    "from datetime import datetime\n",
    "import time"
   ]
  },
  {
   "cell_type": "code",
   "execution_count": 2,
   "metadata": {},
   "outputs": [],
   "source": [
    "api_key = keys.api_key\n",
    "api_secret_key = keys.api_secret_key\n",
    "access_token = keys.access_token\n",
    "access_token_secret = keys.access_token_secret\n",
    "auth = tweepy.OAuthHandler(api_key, api_secret_key)\n",
    "auth.set_access_token(access_token, access_token_secret)\n",
    "api = tweepy.API(auth)"
   ]
  },
  {
   "cell_type": "code",
   "execution_count": 3,
   "metadata": {},
   "outputs": [],
   "source": [
    "# Helper function to save data into a JSON file\n",
    "# file_name: the file name of the data on Google Drive\n",
    "# file_content: the data you want to save\n",
    "def save_json(file_name, file_content):\n",
    "    with open(path + file_name, 'w', encoding='utf-8') as f:\n",
    "        json.dump(file_content, f, ensure_ascii=False, indent=4)\n",
    "        \n",
    "# Helper function to handle twitter API rate limit\n",
    "def limit_handled(cursor, list_name):\n",
    "    while True:\n",
    "        try:\n",
    "            yield cursor.next()    # Catch Twitter API rate limit exception and wait for 15 minutes\n",
    "        except tweepy.RateLimitError:\n",
    "            print(\"\\nData points in list = {}\".format(len(list_name)))\n",
    "            print('Hit Twitter API rate limit.')\n",
    "            for i in range(3, 0, -1):\n",
    "                print(\"Wait for {} mins.\".format(i * 5))\n",
    "                time.sleep(5 * 60)    # Catch any other Twitter API exceptions\n",
    "        except tweepy.error.TweepError:\n",
    "            print('\\nCaught TweepError exception' )\n",
    "            \n",
    "\n",
    "# Helper function to get all tweets of a specified user\n",
    "# NOTE:This method only allows access to the most recent 3200 tweets\n",
    "# Source: https://gist.github.com/yanofsky/5436496\n",
    "def get_all_tweets(screen_name):  # initialize a list to hold all the Tweets\n",
    "    alltweets = []  # make initial request for most recent tweets \n",
    "    # (200 is the maximum allowed count)\n",
    "    new_tweets = api.user_timeline(screen_name = screen_name,count=200)  # save most recent tweets\n",
    "    alltweets.extend(new_tweets)  # save the id of the oldest tweet less one to avoid duplication\n",
    "    oldest = alltweets[-1].id - 1  # keep grabbing tweets until there are no tweets left\n",
    "    while len(new_tweets) > 0:\n",
    "        print(\"getting tweets before %s\" % (oldest))    # all subsequent requests use the max_id param to prevent\n",
    "        # duplicates\n",
    "        new_tweets = api.user_timeline(screen_name = screen_name,count=200,max_id=oldest)    # save most recent tweets\n",
    "        alltweets.extend(new_tweets)    # update the id of the oldest tweet less one\n",
    "        oldest = alltweets[-1].id - 1\n",
    "        print(\"...%s tweets downloaded so far\" % (len(alltweets)))\n",
    "        ### END OF WHILE LOOP ###  # transform the tweepy tweets into a 2D array that will \n",
    "    # populate the csv\n",
    "    outtweets = [[tweet.id_str, tweet.created_at, tweet.text, tweet.favorite_count,tweet.in_reply_to_screen_name, tweet.retweeted] for tweet in alltweets]  # write the csv\n",
    "    with open('%s_tweets.csv' % screen_name, 'w') as f:\n",
    "        writer = csv.writer(f)\n",
    "        writer.writerow([\"id\",\"created_at\",\"text\",\"likes\",\"in reply to\",\"retweeted\"])\n",
    "        writer.writerows(outtweets)\n",
    "    pass\n",
    "\n",
    "\n",
    "# Function to save follower objects in a JSON file.\n",
    "def get_followers():\n",
    "  \n",
    "    # Create a list to store follower data\n",
    "    followers_list = []  # For-loop to iterate over tweepy cursors\n",
    "    cursor = tweepy.Cursor(api.followers, count=200).pages()\n",
    "    for i, page in enumerate(limit_handled(cursor, followers_list)):  \n",
    "        print(\"\\r\"+\"Loading\"+ i % 5 *\".\", end='')\n",
    "\n",
    "        # Add latest batch of follower data to the list\n",
    "        followers_list += page\n",
    "\n",
    "    # Extract the follower information\n",
    "    followers_list = [x._json for x in followers_list]  # Save the data in a JSON file\n",
    "    save_json('followers_data.json', followers_list)\n",
    "\n",
    "    \n",
    "# Function to save friend objects in a JSON file.\n",
    "def get_friends():\n",
    "  \n",
    "    # Create a list to store friends data\n",
    "    friends_list = []  # For-loop to iterate over tweepy cursors\n",
    "    cursor = tweepy.Cursor(api.friends, count=200).pages()\n",
    "    for i, page in enumerate(limit_handled(cursor, friends_list)):  \n",
    "        print(\"\\r\"+\"Loading\"+ i % 5 *\".\", end='')\n",
    "\n",
    "        # Add latest batch of friend data to the list\n",
    "        friends_list += page\n",
    "\n",
    "    # Extract the friends information\n",
    "    friends_list = [x._json for x in friends_list]  # Save the data in a JSON file\n",
    "    save_json('friends_data.json', friends_list)"
   ]
  },
  {
   "cell_type": "code",
   "execution_count": 4,
   "metadata": {},
   "outputs": [
    {
     "name": "stdout",
     "output_type": "stream",
     "text": [
      "getting tweets before 1122393610983542784\n",
      "...391 tweets downloaded so far\n",
      "getting tweets before 647687437712531456\n",
      "...399 tweets downloaded so far\n",
      "getting tweets before 579974579231260671\n",
      "...399 tweets downloaded so far\n"
     ]
    }
   ],
   "source": [
    "get_all_tweets(\"okiomagerald\")"
   ]
  },
  {
   "cell_type": "code",
   "execution_count": null,
   "metadata": {},
   "outputs": [],
   "source": []
  }
 ],
 "metadata": {
  "kernelspec": {
   "display_name": "Python 3",
   "language": "python",
   "name": "python3"
  },
  "language_info": {
   "codemirror_mode": {
    "name": "ipython",
    "version": 3
   },
   "file_extension": ".py",
   "mimetype": "text/x-python",
   "name": "python",
   "nbconvert_exporter": "python",
   "pygments_lexer": "ipython3",
   "version": "3.8.3"
  }
 },
 "nbformat": 4,
 "nbformat_minor": 4
}
