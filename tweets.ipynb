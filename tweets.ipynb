{
 "cells": [
  {
   "cell_type": "code",
   "execution_count": 1,
   "metadata": {},
   "outputs": [],
   "source": [
    "import tweepy                   # Python wrapper around Twitter API\n",
    "from datetime import date\n",
    "from datetime import datetime\n",
    "import time\n",
    "import keys"
   ]
  },
  {
   "cell_type": "code",
   "execution_count": 2,
   "metadata": {},
   "outputs": [],
   "source": [
    "api_key = keys.api_key\n",
    "api_secret_key = keys.api_secret_key\n",
    "access_token = keys.access_token\n",
    "access_token_secret = keys.access_token_secret\n",
    "auth = tweepy.OAuthHandler(api_key, api_secret_key)\n",
    "auth.set_access_token(access_token, access_token_secret)\n",
    "api = tweepy.API(auth)"
   ]
  },
  {
   "cell_type": "code",
   "execution_count": 3,
   "metadata": {},
   "outputs": [],
   "source": [
    "def limit_handled(cursor, list_name):\n",
    "    while True:\n",
    "        try:\n",
    "            yield cursor.next()    # Catch Twitter API rate limit exception and wait for 15 minutes\n",
    "        except tweepy.RateLimitError:\n",
    "            print(\"\\nData points in list = {}\".format(len(list_name)))\n",
    "            print('Hit Twitter API rate limit.')\n",
    "            for i in range(3, 0, -1):\n",
    "                print(\"Wait for {} mins.\".format(i * 5))\n",
    "                time.sleep(5 * 60)    # Catch any other Twitter API exceptions\n",
    "        except tweepy.error.TweepError:\n",
    "            print('\\nCaught TweepError exception' )\n",
    "        except StopIteration:\n",
    "            break\n",
    "            \n",
    "#function to get tweets\n",
    "def get_all_tweets_info(handle):\n",
    "    \"\"\"Gets the follwing information from a twitter account number of likes,number of retweets,number of tweets\"\"\"\n",
    "    alltweets = []  \n",
    "    new_tweets = api.user_timeline(screen_name = handle,count=200)\n",
    "    alltweets.extend(new_tweets)\n",
    "    oldest = alltweets[-1].id - 1 \n",
    "    while len(new_tweets) > 0:\n",
    "        print(\"getting tweets before %s\" % (oldest))    # all subsequent requests use the max_id param to prevent\n",
    "        # duplicates\n",
    "        new_tweets = api.user_timeline(screen_name = handle,count=200,max_id=oldest)    # save most recent tweets\n",
    "        alltweets.extend(new_tweets)    # update the id of the oldest tweet less one\n",
    "        oldest = alltweets[-1].id - 1\n",
    "        print(\"...%s tweets downloaded so far\" % (len(alltweets)))\n",
    "    tweets_list = []\n",
    "    likes = []\n",
    "    retweet_count = []\n",
    "    \n",
    "    for tweet in alltweets:\n",
    "        tweets_text = tweet.text\n",
    "        tweets_likes = tweet.favorite_count\n",
    "        tweets_retweeted = tweet.retweeted\n",
    "\n",
    "        \n",
    "        tweets_list.append(tweets_text)\n",
    "        likes.append(tweets_likes)\n",
    "        retweet_count.append(tweets_retweeted)\n",
    "        \n",
    "    return len(tweets_list),sum(likes),sum(retweet_count)\n",
    "    \n",
    "def followers_count(handle):\n",
    "    \"\"\" Determines the number of followers for a given twitter account\"\"\"\n",
    "  \n",
    "    followers_list = []\n",
    "    cursor = tweepy.Cursor(api.followers,screen_name=handle,count=200).pages()\n",
    "    print(\"loading followers number\")\n",
    "    for i, page in enumerate(limit_handled(cursor, followers_list)):  \n",
    "\n",
    "        # Add latest batch of follower data to the list\n",
    "        followers_list += page\n",
    "    follower_count = len(followers_list)\n",
    "    return follower_count\n",
    "\n",
    "def following_count(handle):\n",
    "    \"\"\"Determines the number of people following a given twitter account\"\"\"\n",
    "    following_list = []\n",
    "    cursor = tweepy.Cursor(api.friends,screen_name=handle,count=200).pages()\n",
    "    print(\"Loading followers numbers\")\n",
    "    for i,page in enumerate(limit_handled(cursor, following_list)):\n",
    "        following_list += page\n",
    "    friends_count = len(following_list)\n",
    "    return friends_count\n",
    "\n",
    "def comments_count(handle):\n",
    "    alltweets = []  \n",
    "    new_tweets = api.user_timeline(screen_name = handle,count=200)\n",
    "    alltweets.extend(new_tweets)\n",
    "    oldest = alltweets[-1].id - 1 \n",
    "    while len(new_tweets) > 0:\n",
    "        print(\"getting tweets before %s\" % (oldest))    # all subsequent requests use the max_id param to prevent\n",
    "        # duplicates\n",
    "        new_tweets = api.user_timeline(screen_name = handle,count=200,max_id=oldest)    # save most recent tweets\n",
    "        alltweets.extend(new_tweets)    # update the id of the oldest tweet less one\n",
    "        oldest = alltweets[-1].id - 1\n",
    "        print(\"...%s tweets downloaded so far\" % (len(alltweets)))\n",
    "    comments = []\n",
    "    for tweet in alltweets:\n",
    "        tweet_id = tweet.id_str\n",
    "        if hasattr(tweet, 'in_reply_to_status_id_str'):\n",
    "            if (tweet.in_reply_to_status_id_str==tweet_id):\n",
    "                comments.append(tweet)\n",
    "    return comments"
   ]
  },
  {
   "cell_type": "code",
   "execution_count": 4,
   "metadata": {},
   "outputs": [],
   "source": [
    "#followers_count(\"okiomagerald\")"
   ]
  },
  {
   "cell_type": "code",
   "execution_count": 5,
   "metadata": {},
   "outputs": [],
   "source": [
    "#following_count(\"okiomagerald\")"
   ]
  },
  {
   "cell_type": "code",
   "execution_count": 6,
   "metadata": {},
   "outputs": [],
   "source": [
    "#type(get_all_tweets_info(\"okiomagerald\"))"
   ]
  },
  {
   "cell_type": "code",
   "execution_count": 7,
   "metadata": {},
   "outputs": [],
   "source": [
    "import pandas as pd\n",
    "data_tweets = pd.DataFrame(columns=['Handle','N_tweets','N_likes','N_retweeted','N_followed','N_following'])"
   ]
  },
  {
   "cell_type": "code",
   "execution_count": 8,
   "metadata": {},
   "outputs": [],
   "source": [
    "influencers = pd.read_csv('data.csv')"
   ]
  },
  {
   "cell_type": "code",
   "execution_count": 9,
   "metadata": {},
   "outputs": [
    {
     "data": {
      "text/html": [
       "<div>\n",
       "<style scoped>\n",
       "    .dataframe tbody tr th:only-of-type {\n",
       "        vertical-align: middle;\n",
       "    }\n",
       "\n",
       "    .dataframe tbody tr th {\n",
       "        vertical-align: top;\n",
       "    }\n",
       "\n",
       "    .dataframe thead th {\n",
       "        text-align: right;\n",
       "    }\n",
       "</style>\n",
       "<table border=\"1\" class=\"dataframe\">\n",
       "  <thead>\n",
       "    <tr style=\"text-align: right;\">\n",
       "      <th></th>\n",
       "      <th>username</th>\n",
       "      <th>twitter_handle</th>\n",
       "    </tr>\n",
       "  </thead>\n",
       "  <tbody>\n",
       "    <tr>\n",
       "      <th>0</th>\n",
       "      <td>Jeffrey Gettleman</td>\n",
       "      <td>@gettleman</td>\n",
       "    </tr>\n",
       "    <tr>\n",
       "      <th>1</th>\n",
       "      <td>Africa24 Media</td>\n",
       "      <td>@a24media</td>\n",
       "    </tr>\n",
       "    <tr>\n",
       "      <th>2</th>\n",
       "      <td>Scapegoat</td>\n",
       "      <td>@andiMakinana</td>\n",
       "    </tr>\n",
       "    <tr>\n",
       "      <th>3</th>\n",
       "      <td>Africa Check</td>\n",
       "      <td>@AfricaCheck</td>\n",
       "    </tr>\n",
       "    <tr>\n",
       "      <th>4</th>\n",
       "      <td>James Copnall</td>\n",
       "      <td>@JamesCopnall</td>\n",
       "    </tr>\n",
       "  </tbody>\n",
       "</table>\n",
       "</div>"
      ],
      "text/plain": [
       "              username twitter_handle\n",
       "0   Jeffrey Gettleman      @gettleman\n",
       "1      Africa24 Media       @a24media\n",
       "2           Scapegoat   @andiMakinana\n",
       "3        Africa Check    @AfricaCheck\n",
       "4       James Copnall   @JamesCopnall"
      ]
     },
     "execution_count": 9,
     "metadata": {},
     "output_type": "execute_result"
    }
   ],
   "source": [
    "influencers=influencers[['username','twitter_handle']]\n",
    "influencers['twitter_handle']= influencers['twitter_handle'].str.strip(')')\n",
    "influencers.head()"
   ]
  },
  {
   "cell_type": "markdown",
   "metadata": {},
   "source": [
    "index = 1\n",
    "#for i in influencers['twitter_handle']:\n",
    "handle = \"@okiomagerald\"\n",
    "tweets_count,likes_count,retweets_count = get_all_tweets_info(handle)\n",
    "count_no_followers = followers_count(handle)\n",
    "count_no_following = following_count(handle)\n",
    "user_data = [handle,tweets_count,likes_count,retweets_count,count_no_followers,count_no_following]\n",
    "data_tweets.loc[index]=user_data\n",
    "data_tweets"
   ]
  },
  {
   "cell_type": "code",
   "execution_count": 10,
   "metadata": {},
   "outputs": [
    {
     "name": "stdout",
     "output_type": "stream",
     "text": [
      "getting tweets before 1122185206641905663\n",
      "...391 tweets downloaded so far\n",
      "getting tweets before 612957388073750527\n",
      "...398 tweets downloaded so far\n",
      "getting tweets before 579974579231260671\n",
      "...398 tweets downloaded so far\n"
     ]
    },
    {
     "data": {
      "text/plain": [
       "[]"
      ]
     },
     "execution_count": 10,
     "metadata": {},
     "output_type": "execute_result"
    }
   ],
   "source": [
    "comments_count(\"@okiomagerald\")"
   ]
  },
  {
   "cell_type": "code",
   "execution_count": null,
   "metadata": {},
   "outputs": [],
   "source": []
  },
  {
   "cell_type": "code",
   "execution_count": null,
   "metadata": {},
   "outputs": [],
   "source": []
  }
 ],
 "metadata": {
  "kernelspec": {
   "display_name": "Python 3",
   "language": "python",
   "name": "python3"
  },
  "language_info": {
   "codemirror_mode": {
    "name": "ipython",
    "version": 3
   },
   "file_extension": ".py",
   "mimetype": "text/x-python",
   "name": "python",
   "nbconvert_exporter": "python",
   "pygments_lexer": "ipython3",
   "version": "3.8.3"
  }
 },
 "nbformat": 4,
 "nbformat_minor": 4
}
